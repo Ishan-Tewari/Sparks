{
  "nbformat": 4,
  "nbformat_minor": 0,
  "metadata": {
    "colab": {
      "name": "Task 1 GRIP Ishan.ipynb",
      "provenance": [],
      "collapsed_sections": []
    },
    "kernelspec": {
      "name": "python3",
      "display_name": "Python 3"
    }
  },
  "cells": [
    {
      "cell_type": "markdown",
      "metadata": {
        "id": "RMK_zxoqM9Ex"
      },
      "source": [
        "# The Sparks Foundation #GRIPFEB21\n",
        "\n",
        "# Prediction using Supervised ML\n",
        "\n",
        "## Submitted by Ishan Tewari"
      ]
    },
    {
      "cell_type": "markdown",
      "metadata": {
        "id": "lFuuOae1NV-t"
      },
      "source": [
        "#Task1: Predict the percentage of an student based on the no. of study hours."
      ]
    },
    {
      "cell_type": "markdown",
      "metadata": {
        "id": "2Owqq1QINYOn"
      },
      "source": [
        "**Importing neccessary libraries**"
      ]
    },
    {
      "cell_type": "code",
      "metadata": {
        "id": "j4Q01YMwLzhN"
      },
      "source": [
        "import pandas as pd\n",
        "import numpy as np \n",
        "\n",
        "import matplotlib.pyplot as plt  \n",
        "%matplotlib inline\n",
        "\n",
        "from sklearn.model_selection import train_test_split\n",
        "from sklearn.linear_model import LinearRegression"
      ],
      "execution_count": null,
      "outputs": []
    },
    {
      "cell_type": "markdown",
      "metadata": {
        "id": "TrvsruFBNxe2"
      },
      "source": [
        "**Reading Data**"
      ]
    },
    {
      "cell_type": "code",
      "metadata": {
        "colab": {
          "base_uri": "https://localhost:8080/",
          "height": 204
        },
        "id": "KkVQGOPbNh0z",
        "outputId": "4a99c8bd-468e-4259-ec41-189f23981195"
      },
      "source": [
        "df = pd.read_csv('https://raw.githubusercontent.com/AdiPersonalWorks/Random/master/student_scores%20-%20student_scores.csv')\n",
        "df.head()"
      ],
      "execution_count": null,
      "outputs": [
        {
          "output_type": "execute_result",
          "data": {
            "text/html": [
              "<div>\n",
              "<style scoped>\n",
              "    .dataframe tbody tr th:only-of-type {\n",
              "        vertical-align: middle;\n",
              "    }\n",
              "\n",
              "    .dataframe tbody tr th {\n",
              "        vertical-align: top;\n",
              "    }\n",
              "\n",
              "    .dataframe thead th {\n",
              "        text-align: right;\n",
              "    }\n",
              "</style>\n",
              "<table border=\"1\" class=\"dataframe\">\n",
              "  <thead>\n",
              "    <tr style=\"text-align: right;\">\n",
              "      <th></th>\n",
              "      <th>Hours</th>\n",
              "      <th>Scores</th>\n",
              "    </tr>\n",
              "  </thead>\n",
              "  <tbody>\n",
              "    <tr>\n",
              "      <th>0</th>\n",
              "      <td>2.5</td>\n",
              "      <td>21</td>\n",
              "    </tr>\n",
              "    <tr>\n",
              "      <th>1</th>\n",
              "      <td>5.1</td>\n",
              "      <td>47</td>\n",
              "    </tr>\n",
              "    <tr>\n",
              "      <th>2</th>\n",
              "      <td>3.2</td>\n",
              "      <td>27</td>\n",
              "    </tr>\n",
              "    <tr>\n",
              "      <th>3</th>\n",
              "      <td>8.5</td>\n",
              "      <td>75</td>\n",
              "    </tr>\n",
              "    <tr>\n",
              "      <th>4</th>\n",
              "      <td>3.5</td>\n",
              "      <td>30</td>\n",
              "    </tr>\n",
              "  </tbody>\n",
              "</table>\n",
              "</div>"
            ],
            "text/plain": [
              "   Hours  Scores\n",
              "0    2.5      21\n",
              "1    5.1      47\n",
              "2    3.2      27\n",
              "3    8.5      75\n",
              "4    3.5      30"
            ]
          },
          "metadata": {
            "tags": []
          },
          "execution_count": 104
        }
      ]
    },
    {
      "cell_type": "markdown",
      "metadata": {
        "id": "0_kk_CdTOB1D"
      },
      "source": [
        "Thus it can be seen that the data has 2 columns, namely hours and scores, where scores is the target variable.\n",
        "\n",
        "Let's check how our data is dispersed"
      ]
    },
    {
      "cell_type": "markdown",
      "metadata": {
        "id": "wVS2S_tLOPCP"
      },
      "source": [
        "**Visualizing data**"
      ]
    },
    {
      "cell_type": "code",
      "metadata": {
        "colab": {
          "base_uri": "https://localhost:8080/",
          "height": 609
        },
        "id": "D-PGynUgNl0Z",
        "outputId": "20a7f449-9ddc-4d38-8590-45ebae4762dd"
      },
      "source": [
        "plt.figure(figsize=(20,10))\n",
        "plt.scatter(data.Hours, data.Scores)"
      ],
      "execution_count": null,
      "outputs": [
        {
          "output_type": "execute_result",
          "data": {
            "text/plain": [
              "<matplotlib.collections.PathCollection at 0x7f7e28597470>"
            ]
          },
          "metadata": {
            "tags": []
          },
          "execution_count": 114
        },
        {
          "output_type": "display_data",
          "data": {
            "image/png": "[encoded data removed]",
            "text/plain": [
              "<Figure size 1440x720 with 1 Axes>"
            ]
          },
          "metadata": {
            "tags": [],
            "needs_background": "light"
          }
        }
      ]
    },
    {
      "cell_type": "markdown",
      "metadata": {
        "id": "nFQv2yP3PBU5"
      },
      "source": [
        "It can be seen that a linear line would fit the dataset quite accurately"
      ]
    },
    {
      "cell_type": "markdown",
      "metadata": {
        "id": "8c8ts78iPHWu"
      },
      "source": [
        "**Splitting dataset into training and testing set**"
      ]
    },
    {
      "cell_type": "code",
      "metadata": {
        "colab": {
          "base_uri": "https://localhost:8080/"
        },
        "id": "jRJiPNtpO-yN",
        "outputId": "e8f97a8d-6bee-4a99-8fe5-7e84e96acb0d"
      },
      "source": [
        "X = data.Hours.values.reshape(-1,1)\n",
        "y = data.Scores\n",
        "\n",
        "X_train, X_test, y_train, y_test = train_test_split(X, y, test_size = 0.2)\n",
        "\n",
        "\n",
        "print(X_train.shape)\n",
        "print(y_train.shape)\n",
        "\n",
        "print(X_test.shape)\n",
        "print(y_test.shape)"
      ],
      "execution_count": null,
      "outputs": [
        {
          "output_type": "stream",
          "text": [
            "(20, 1)\n",
            "(20,)\n",
            "(5, 1)\n",
            "(5,)\n"
          ],
          "name": "stdout"
        }
      ]
    },
    {
      "cell_type": "markdown",
      "metadata": {
        "id": "oVoMLC1FQdvo"
      },
      "source": [
        "**Building Model and making Predictions**"
      ]
    },
    {
      "cell_type": "code",
      "metadata": {
        "colab": {
          "base_uri": "https://localhost:8080/"
        },
        "id": "HjXPVfmaPSy8",
        "outputId": "f16836bf-200e-4295-d693-5521edbe70a0"
      },
      "source": [
        "model = LinearRegression()\n",
        "model.fit(X_train, y_train)"
      ],
      "execution_count": null,
      "outputs": [
        {
          "output_type": "execute_result",
          "data": {
            "text/plain": [
              "LinearRegression(copy_X=True, fit_intercept=True, n_jobs=None, normalize=False)"
            ]
          },
          "metadata": {
            "tags": []
          },
          "execution_count": 107
        }
      ]
    },
    {
      "cell_type": "code",
      "metadata": {
        "colab": {
          "base_uri": "https://localhost:8080/"
        },
        "id": "2kiGzS-3Qh8x",
        "outputId": "8fcdf46e-46d4-4cea-aed5-748cbc0ecfaf"
      },
      "source": [
        "predictions = model.predict(X_test)\n",
        "model.score(X_test, y_test)"
      ],
      "execution_count": null,
      "outputs": [
        {
          "output_type": "execute_result",
          "data": {
            "text/plain": [
              "0.9619486867806321"
            ]
          },
          "metadata": {
            "tags": []
          },
          "execution_count": 108
        }
      ]
    },
    {
      "cell_type": "code",
      "metadata": {
        "colab": {
          "base_uri": "https://localhost:8080/"
        },
        "id": "GdNvI4s_QuLS",
        "outputId": "2d423d50-1d34-479a-97d9-66def667eee7"
      },
      "source": [
        "test_case = [[9.25]]\n",
        "hours = model.predict(test_case)\n",
        "\n",
        "print(\"For the number of hours 9.25, the predicted score is : \", hours[0])"
      ],
      "execution_count": null,
      "outputs": [
        {
          "output_type": "stream",
          "text": [
            "For the number of hours 9.25, the predicted score is :  92.36211819981654\n"
          ],
          "name": "stdout"
        }
      ]
    },
    {
      "cell_type": "markdown",
      "metadata": {
        "id": "uI8lOyoWQyVN"
      },
      "source": [
        "**Model Evaluation**"
      ]
    },
    {
      "cell_type": "code",
      "metadata": {
        "colab": {
          "base_uri": "https://localhost:8080/"
        },
        "id": "75-wP1eFQwiq",
        "outputId": "46125b19-ab29-4b4a-e7a1-72299e231a36"
      },
      "source": [
        "from sklearn import metrics\n",
        "\n",
        "print(\"MAE = \", metrics.mean_absolute_error(y_test,predictions))\n",
        "print(\"MSE =\", metrics.mean_squared_error(y_test,predictions))"
      ],
      "execution_count": null,
      "outputs": [
        {
          "output_type": "stream",
          "text": [
            "MAE =  4.222681182579246\n",
            "MSE = 19.680139197057095\n"
          ],
          "name": "stdout"
        }
      ]
    },
    {
      "cell_type": "markdown",
      "metadata": {
        "id": "uhgLAnjtSPcg"
      },
      "source": [
        "**Plotting Results**"
      ]
    },
    {
      "cell_type": "code",
      "metadata": {
        "id": "B_S5re4QRHwT",
        "colab": {
          "base_uri": "https://localhost:8080/",
          "height": 620
        },
        "outputId": "455af356-8db3-4024-8355-e27f32ef2977"
      },
      "source": [
        "# plt.style.use('seaborn')\n",
        "# y = mx + c\n",
        "bestfitline = model.coef_*X + model.intercept_\n",
        "\n",
        "fig = plt.figure(figsize=(20,10))\n",
        "plt.title('Study Hours vs Scores')\n",
        "plt.scatter(X, y, color = 'blue')\n",
        "plt.plot(X, bestfitline, color = 'black')\n",
        "plt.xlabel('Hours')\n",
        "plt.ylabel('Score')\n",
        "plt.show()"
      ],
      "execution_count": null,
      "outputs": [
        {
          "output_type": "display_data",
          "data": {
            "image/png": "[encoded data removed]",
            "text/plain": [
              "<Figure size 1440x720 with 1 Axes>"
            ]
          },
          "metadata": {
            "tags": [],
            "needs_background": "light"
          }
        }
      ]
    },
    {
      "cell_type": "code",
      "metadata": {
        "id": "IAcDC4xNSiZZ"
      },
      "source": [
        ""
      ],
      "execution_count": null,
      "outputs": []
    }
  ]
}